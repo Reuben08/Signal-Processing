{
 "cells": [
  {
   "cell_type": "markdown",
   "metadata": {},
   "source": [
    "Hello ! I have assigned this space as a markdown."
   ]
  },
  {
   "cell_type": "markdown",
   "metadata": {},
   "source": [
    "Now I will be doing the example."
   ]
  },
  {
   "cell_type": "code",
   "execution_count": 5,
   "metadata": {},
   "outputs": [
    {
     "name": "stdout",
     "output_type": "stream",
     "text": [
      "\n",
      " Hello Doctor! Jypyter Notebook is an amazing platform to excecute python codes.\n"
     ]
    }
   ],
   "source": [
    "# We can add comments by putting a hashtag in front of the statement\n",
    "# I will be pring that \" Jypyter Notebook is an amazing platform to excecute python codes.\"\n",
    "txt1 =\"Jypyter Notebook is \"\n",
    "txt2=\"an amazing platform \"\n",
    "txt3=\"to excecute python codes.\"\n",
    "print('\\n Hello Doctor! '+txt1+txt2+txt3)\n"
   ]
  },
  {
   "cell_type": "markdown",
   "metadata": {},
   "source": [
    "I hope you liked the code."
   ]
  },
  {
   "cell_type": "code",
   "execution_count": null,
   "metadata": {
    "collapsed": true
   },
   "outputs": [],
   "source": []
  }
 ],
 "metadata": {
  "kernelspec": {
   "display_name": "Python 2",
   "language": "python",
   "name": "python2"
  },
  "language_info": {
   "codemirror_mode": {
    "name": "ipython",
    "version": 2
   },
   "file_extension": ".py",
   "mimetype": "text/x-python",
   "name": "python",
   "nbconvert_exporter": "python",
   "pygments_lexer": "ipython2",
   "version": "2.7.13"
  }
 },
 "nbformat": 4,
 "nbformat_minor": 2
}
